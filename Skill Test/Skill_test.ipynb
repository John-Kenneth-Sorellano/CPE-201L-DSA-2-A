{
  "nbformat": 4,
  "nbformat_minor": 0,
  "metadata": {
    "colab": {
      "provenance": [],
      "authorship_tag": "ABX9TyO3fAuhi+LPaUef5auJiyOW",
      "include_colab_link": true
    },
    "kernelspec": {
      "name": "python3",
      "display_name": "Python 3"
    },
    "language_info": {
      "name": "python"
    }
  },
  "cells": [
    {
      "cell_type": "markdown",
      "metadata": {
        "id": "view-in-github",
        "colab_type": "text"
      },
      "source": [
        "<a href=\"https://colab.research.google.com/github/John-Kenneth-Sorellano/CPE-201L-DSA-2-A/blob/main/Skill_test.ipynb\" target=\"_parent\"><img src=\"https://colab.research.google.com/assets/colab-badge.svg\" alt=\"Open In Colab\"/></a>"
      ]
    },
    {
      "cell_type": "code",
      "execution_count": 1,
      "metadata": {
        "id": "TihSPDLtTEHN",
        "colab": {
          "base_uri": "https://localhost:8080/"
        },
        "outputId": "eafaf5ce-abce-4c6c-a27c-451379eb0f32"
      },
      "outputs": [
        {
          "output_type": "stream",
          "name": "stdout",
          "text": [
            "Full name:\n",
            " J\n",
            " O\n",
            " H\n",
            " N\n",
            " K\n",
            " E\n",
            " N\n",
            " N\n",
            " E\n",
            " T\n",
            " H\n",
            " T\n",
            " U\n",
            " M\n",
            " A\n",
            " M\n",
            " P\n",
            " O\n",
            " S\n",
            " O\n",
            " R\n",
            " E\n",
            " L\n",
            " L\n",
            " A\n",
            " N\n",
            " O\n",
            " "
          ]
        }
      ],
      "source": [
        "class Node:\n",
        "    def __init__(self,data):\n",
        "        self.data = data\n",
        "        self.next = None\n",
        "\n",
        "name = [\" J\", \"O\", \"H\", \"N\",\n",
        "         \"K\", \"E\", \"N\", \"N\", \"E\", \"T\", \"H\",\n",
        "         \"T\", \"U\", \"M\", \"A\", \"M\", \"P\", \"O\",\n",
        "         \"S\", \"O\", \"R\", \"E\", \"L\", \"L\", \"A\", \"N\", \"O\"]\n",
        "\n",
        "head = Node(name[0])\n",
        "current = head\n",
        "\n",
        "for ch in name [1:]:\n",
        "    current.next = Node(ch)\n",
        "    current = current.next\n",
        "\n",
        "temp =  head\n",
        "print (\"Full name:\")\n",
        "while temp:\n",
        "    print(temp.data, end=\"\\n \")\n",
        "    temp =  temp.next"
      ]
    }
  ]
}
