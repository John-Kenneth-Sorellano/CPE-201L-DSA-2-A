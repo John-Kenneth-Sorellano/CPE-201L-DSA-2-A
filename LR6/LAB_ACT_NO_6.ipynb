{
  "nbformat": 4,
  "nbformat_minor": 0,
  "metadata": {
    "colab": {
      "provenance": [],
      "authorship_tag": "ABX9TyNKwMr4kPMZhoXFcKVbqSa7",
      "include_colab_link": true
    },
    "kernelspec": {
      "name": "python3",
      "display_name": "Python 3"
    },
    "language_info": {
      "name": "python"
    }
  },
  "cells": [
    {
      "cell_type": "markdown",
      "metadata": {
        "id": "view-in-github",
        "colab_type": "text"
      },
      "source": [
        "<a href=\"https://colab.research.google.com/github/John-Kenneth-Sorellano/CPE-201L-DSA-2-A/blob/main/LAB_ACT_NO_6.ipynb\" target=\"_parent\"><img src=\"https://colab.research.google.com/assets/colab-badge.svg\" alt=\"Open In Colab\"/></a>"
      ]
    },
    {
      "cell_type": "code",
      "execution_count": 23,
      "metadata": {
        "colab": {
          "base_uri": "https://localhost:8080/"
        },
        "id": "PapHTp-YN0aF",
        "outputId": "2bc132d7-f6de-4aa8-da5b-f7cdd9bd0869"
      },
      "outputs": [
        {
          "output_type": "stream",
          "name": "stdout",
          "text": [
            "prime number on the linked lists:\n",
            "2 3 5 7 11 13 17 19 \n",
            "Head: 2\n",
            "Tail: 19\n"
          ]
        }
      ],
      "source": [
        "# defining a class node\n",
        "class Node:\n",
        "    def __init__(self,data):\n",
        "      self.data = data\n",
        "      self.next = None\n",
        "\n",
        "# Chekc if the number is prime\n",
        "def is_prime(n):\n",
        "    if n < 2:\n",
        "      return False\n",
        "    for i in range(2,n):\n",
        "      if n % i == 0:\n",
        "        return False\n",
        "    return True\n",
        "\n",
        "# CREATING THE LINKED LIST\n",
        "head = None\n",
        "tail = None\n",
        "\n",
        "# filling the list with prime numbers\n",
        "for num in range(2, 20):\n",
        "    if is_prime(num):\n",
        "        new_node = Node(num)\n",
        "        if head is None:\n",
        "            head = new_node\n",
        "            tail = new_node\n",
        "        else:\n",
        "            tail.next = new_node\n",
        "            tail = new_node\n",
        "\n",
        "# displaying the linked list\n",
        "print(\"prime number on the linked lists:\")\n",
        "current = head\n",
        "while current:\n",
        "    print(current.data, end=\" \")\n",
        "    current = current.next\n",
        "\n",
        "print(f\"\\nHead:\", head.data)\n",
        "print(f\"Tail:\", tail.data)"
      ]
    }
  ]
}
