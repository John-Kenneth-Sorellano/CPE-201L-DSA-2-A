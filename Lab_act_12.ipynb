{
  "nbformat": 4,
  "nbformat_minor": 0,
  "metadata": {
    "colab": {
      "provenance": [],
      "authorship_tag": "ABX9TyNxjVdtYLDP/QevM2Gh3iTs",
      "include_colab_link": true
    },
    "kernelspec": {
      "name": "python3",
      "display_name": "Python 3"
    },
    "language_info": {
      "name": "python"
    }
  },
  "cells": [
    {
      "cell_type": "markdown",
      "metadata": {
        "id": "view-in-github",
        "colab_type": "text"
      },
      "source": [
        "<a href=\"https://colab.research.google.com/github/John-Kenneth-Sorellano/CPE-201L-DSA-2-A/blob/main/Lab_act_12.ipynb\" target=\"_parent\"><img src=\"https://colab.research.google.com/assets/colab-badge.svg\" alt=\"Open In Colab\"/></a>"
      ]
    },
    {
      "cell_type": "code",
      "execution_count": 6,
      "metadata": {
        "colab": {
          "base_uri": "https://localhost:8080/"
        },
        "id": "70z5TVmpTvMZ",
        "outputId": "cb1d5f17-3c58-4459-a6c5-69a246564144"
      },
      "outputs": [
        {
          "output_type": "stream",
          "name": "stdout",
          "text": [
            "X: ['Y', 'Z']\n",
            "Y: ['X']\n",
            "Z: ['X']\n"
          ]
        }
      ],
      "source": [
        "class Graph:\n",
        "    def __init__(self):\n",
        "        self.adj_list = {}\n",
        "\n",
        "    def add_vertex(self, vertex):\n",
        "        if vertex not in self.adj_list:\n",
        "            self.adj_list[vertex] = []\n",
        "\n",
        "    def add_edge(self, vertex1, vertex2, directed=False):\n",
        "        self.add_vertex(vertex1)\n",
        "        self.add_vertex(vertex2)\n",
        "\n",
        "        self.adj_list[vertex1].append(vertex2)\n",
        "        if not directed:\n",
        "            self.adj_list[vertex2].append(vertex1)\n",
        "\n",
        "    def display(self):\n",
        "        for vertex, neighbors in self.adj_list.items():\n",
        "            print(f\"{vertex}: {neighbors}\")\n",
        "g = Graph()\n",
        "g.add_edge( \"X\", \"Y\")\n",
        "g.add_edge(\"X\", \"Z\")\n",
        "g.display()\n"
      ]
    },
    {
      "cell_type": "code",
      "source": [
        "def dfs_recursive(graph, start, visited=None, path=None):\n",
        "    if visited is None:\n",
        "        visited = set()\n",
        "    if path is None:\n",
        "        path = []\n",
        "\n",
        "    visited.add(start)\n",
        "    path.append(start)\n",
        "    print(f\"Visiting: {start}\")\n",
        "\n",
        "    for neighbor in graph.adj_list[start]:\n",
        "        if neighbor not in visited:\n",
        "            dfs_recursive(graph, neighbor, visited, path)\n",
        "\n",
        "    return path\n",
        "\n",
        "def dfs_iterative(graph, start):\n",
        "    visited = set()\n",
        "    stack = [start]\n",
        "    path = []\n",
        "\n",
        "    print(\"DFS Iterative Traversal:\")\n",
        "    while stack:\n",
        "        vertex = stack.pop()\n",
        "        if vertex not in visited:\n",
        "            visited.add(vertex)\n",
        "            path.append(vertex)\n",
        "            print(f\"Visiting: {vertex}\")\n",
        "\n",
        "            # Add neighbors in reverse order for same behavior as recursive\n",
        "            for neighbor in reversed(graph.adj_list[vertex]):\n",
        "                if neighbor not in visited:\n",
        "                    stack.append(neighbor)\n",
        "    return path\n",
        "\n",
        "class Graph:\n",
        "    def __init__(self):\n",
        "        self.adj_list = {}\n",
        "    def add_edge(self, v1, v2, directed=False):\n",
        "        self.adj_list.setdefault(v1, []).append(v2)\n",
        "        if not directed:\n",
        "            self.adj_list.setdefault(v2, []).append(v1)\n",
        "\n",
        "g = Graph()\n",
        "g.add_edge(\"W\", \"X\")\n",
        "g.add_edge(\"W\", \"Y\")\n",
        "g.add_edge(\"X\", \"Z\")\n",
        "\n",
        "dfs_iterative(g, \"W\")"
      ],
      "metadata": {
        "colab": {
          "base_uri": "https://localhost:8080/"
        },
        "id": "oHRhMmTTT22V",
        "outputId": "d522755a-7c65-4d7a-d30a-7f3e7ae62eb9"
      },
      "execution_count": 10,
      "outputs": [
        {
          "output_type": "stream",
          "name": "stdout",
          "text": [
            "DFS Iterative Traversal:\n",
            "Visiting: W\n",
            "Visiting: X\n",
            "Visiting: Z\n",
            "Visiting: Y\n"
          ]
        },
        {
          "output_type": "execute_result",
          "data": {
            "text/plain": [
              "['W', 'X', 'Z', 'Y']"
            ]
          },
          "metadata": {},
          "execution_count": 10
        }
      ]
    },
    {
      "cell_type": "code",
      "source": [
        "from collections import deque\n",
        "\n",
        "def bfs(graph, start):\n",
        "    visited = set()\n",
        "    queue = deque([start])\n",
        "    path = []\n",
        "\n",
        "    print(\"BFS Traversal:\")\n",
        "    while queue:\n",
        "        vertex = queue.popleft()\n",
        "        if vertex not in visited:\n",
        "            visited.add(vertex)\n",
        "            path.append(vertex)\n",
        "            print(f\"Visiting: {vertex}\")\n",
        "\n",
        "            for neighbor in graph.adj_list[vertex]:\n",
        "                if neighbor not in visited:\n",
        "                    queue.append(neighbor)\n",
        "\n",
        "    return path\n",
        "\n",
        "\n",
        "# --- Simple test to show output ---\n",
        "class Graph:\n",
        "    def __init__(self):\n",
        "        self.adj_list = {}\n",
        "    def add_edge(self, v1, v2, directed=False):\n",
        "        self.adj_list.setdefault(v1, []).append(v2)\n",
        "        if not directed:\n",
        "            self.adj_list.setdefault(v2, []).append(v1)\n",
        "\n",
        "g = Graph()\n",
        "g.add_edge(\"W\", \"X\")\n",
        "g.add_edge(\"W\", \"Y\")\n",
        "g.add_edge(\"X\", \"Z\")\n",
        "\n",
        "bfs(g, \"W\")\n"
      ],
      "metadata": {
        "colab": {
          "base_uri": "https://localhost:8080/"
        },
        "id": "7dBvKWVIUPG1",
        "outputId": "5689711e-d648-45e0-f1de-d90ad7337061"
      },
      "execution_count": 19,
      "outputs": [
        {
          "output_type": "stream",
          "name": "stdout",
          "text": [
            "BFS Traversal:\n",
            "Visiting: W\n",
            "Visiting: X\n",
            "Visiting: Y\n",
            "Visiting: Z\n"
          ]
        },
        {
          "output_type": "execute_result",
          "data": {
            "text/plain": [
              "['W', 'X', 'Y', 'Z']"
            ]
          },
          "metadata": {},
          "execution_count": 19
        }
      ]
    }
  ]
}