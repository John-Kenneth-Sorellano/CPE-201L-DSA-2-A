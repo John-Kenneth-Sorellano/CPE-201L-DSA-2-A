{
  "nbformat": 4,
  "nbformat_minor": 0,
  "metadata": {
    "colab": {
      "provenance": [],
      "authorship_tag": "ABX9TyPZltACTgE1pBVoQlGf7gde",
      "include_colab_link": true
    },
    "kernelspec": {
      "name": "python3",
      "display_name": "Python 3"
    },
    "language_info": {
      "name": "python"
    }
  },
  "cells": [
    {
      "cell_type": "markdown",
      "metadata": {
        "id": "view-in-github",
        "colab_type": "text"
      },
      "source": [
        "<a href=\"https://colab.research.google.com/github/John-Kenneth-Sorellano/CPE-201L-DSA-2-A/blob/main/DSA_lab_report_1.ipynb\" target=\"_parent\"><img src=\"https://colab.research.google.com/assets/colab-badge.svg\" alt=\"Open In Colab\"/></a>"
      ]
    },
    {
      "cell_type": "code",
      "execution_count": 4,
      "metadata": {
        "colab": {
          "base_uri": "https://localhost:8080/"
        },
        "id": "hS1GqTSRHyIT",
        "outputId": "7226953e-748d-46c1-e97e-7900592f50b9"
      },
      "outputs": [
        {
          "output_type": "stream",
          "name": "stdout",
          "text": [
            "Triangle 3 15.5\n",
            "Square 4 25.0\n"
          ]
        }
      ],
      "source": [
        "class Polygons:\n",
        "    def __init__(self, name, sides, area):\n",
        "        self.name = name\n",
        "        self.sides = sides\n",
        "        self.area = area\n",
        "    def set_name(self, name):\n",
        "        self.name = name\n",
        "    def set_sides(self, sides):\n",
        "        self.sides = sides\n",
        "    def set_area(self, area):\n",
        "        self.area = area\n",
        "    def get_name(self):\n",
        "        return self.name\n",
        "    def get_sides(self):\n",
        "        return self.sides\n",
        "    def get_area(self):\n",
        "        return self.area\n",
        "p = Polygons(\"Triangle\", 3, 15.5)\n",
        "print(p.get_name(), p.get_sides(), p.get_area())\n",
        "p.set_name(\"Square\")\n",
        "p.set_sides(4)\n",
        "p.set_area(25.0)\n",
        "print(p.get_name(), p.get_sides(), p.get_area())\n"
      ]
    }
  ]
}