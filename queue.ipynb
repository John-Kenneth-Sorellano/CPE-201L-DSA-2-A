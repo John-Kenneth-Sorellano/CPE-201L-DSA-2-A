{
  "nbformat": 4,
  "nbformat_minor": 0,
  "metadata": {
    "colab": {
      "provenance": [],
      "authorship_tag": "ABX9TyNuLDE/TGQ42exyy2F37Thu",
      "include_colab_link": true
    },
    "kernelspec": {
      "name": "python3",
      "display_name": "Python 3"
    },
    "language_info": {
      "name": "python"
    }
  },
  "cells": [
    {
      "cell_type": "markdown",
      "metadata": {
        "id": "view-in-github",
        "colab_type": "text"
      },
      "source": [
        "<a href=\"https://colab.research.google.com/github/John-Kenneth-Sorellano/CPE-201L-DSA-2-A/blob/main/queue.ipynb\" target=\"_parent\"><img src=\"https://colab.research.google.com/assets/colab-badge.svg\" alt=\"Open In Colab\"/></a>"
      ]
    },
    {
      "cell_type": "code",
      "execution_count": 18,
      "metadata": {
        "id": "emR1HVsGNcSJ",
        "colab": {
          "base_uri": "https://localhost:8080/"
        },
        "outputId": "8a598cd1-7d0a-4421-daf0-027c157a36c6"
      },
      "outputs": [
        {
          "output_type": "stream",
          "name": "stdout",
          "text": [
            "Queue: ['200', '201', '202', '203', '204', '205', '206']\n",
            "No: 200\n",
            "Queue: ['201', '202', '203', '204', '205', '206']\n"
          ]
        }
      ],
      "source": [
        "#my example is fast food ordering system\n",
        "class Queue:\n",
        "    def __init__(self):\n",
        "        self.queue = []\n",
        "    def enqueue(self, item):\n",
        "        self.queue.append(item)\n",
        "#it will show no incoming queue if thewre is no number in queue\n",
        "    def dequeue(self):\n",
        "        if self.is_empty():\n",
        "            return \"No incoming queue\"\n",
        "        return self.queue.pop(0)\n",
        "    def head(self):\n",
        "        if self.is_empty():\n",
        "            return \"No incoming queue\"\n",
        "        return self.queue[0]\n",
        "    def is_empty(self):\n",
        "        return len(self.queue) == 0\n",
        "    def display(self):\n",
        "        print(\"Queue:\", self.queue)\n",
        "# Example items queue\n",
        "AQueue = Queue()\n",
        "AQueue.enqueue(\"200\")\n",
        "AQueue.enqueue(\"201\")\n",
        "AQueue.enqueue(\"202\")\n",
        "AQueue.enqueue(\"203\")\n",
        "AQueue.enqueue(\"204\")\n",
        "AQueue.enqueue(\"205\")\n",
        "AQueue.enqueue(\"206\")\n",
        "AQueue.display()\n",
        "print(\"No:\", AQueue.head())\n",
        "AQueue.dequeue()\n",
        "#it will display the remaining item in queue\n",
        "AQueue.display()\n"
      ]
    },
    {
      "cell_type": "code",
      "source": [],
      "metadata": {
        "id": "VD40IFBOSir4"
      },
      "execution_count": null,
      "outputs": []
    }
  ]
}