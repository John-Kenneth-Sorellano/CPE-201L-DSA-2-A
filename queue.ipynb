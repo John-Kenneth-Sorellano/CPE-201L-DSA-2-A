{
  "nbformat": 4,
  "nbformat_minor": 0,
  "metadata": {
    "colab": {
      "provenance": [],
      "authorship_tag": "ABX9TyMGIAq6nOh1m31MrNjEfMIl",
      "include_colab_link": true
    },
    "kernelspec": {
      "name": "python3",
      "display_name": "Python 3"
    },
    "language_info": {
      "name": "python"
    }
  },
  "cells": [
    {
      "cell_type": "markdown",
      "metadata": {
        "id": "view-in-github",
        "colab_type": "text"
      },
      "source": [
        "<a href=\"https://colab.research.google.com/github/John-Kenneth-Sorellano/CPE-201L-DSA-2-A/blob/main/queue.ipynb\" target=\"_parent\"><img src=\"https://colab.research.google.com/assets/colab-badge.svg\" alt=\"Open In Colab\"/></a>"
      ]
    },
    {
      "cell_type": "code",
      "execution_count": 15,
      "metadata": {
        "id": "emR1HVsGNcSJ",
        "colab": {
          "base_uri": "https://localhost:8080/"
        },
        "outputId": "3c59ce6a-53ef-4638-afd7-f4e0eb916abc"
      },
      "outputs": [
        {
          "output_type": "stream",
          "name": "stdout",
          "text": [
            "Queue: ['Sun', 'Mon', 'Tue', 'Wed', 'Thu', 'Fri', 'Sat']\n",
            "Head: Sun\n",
            "Queue: ['Mon', 'Tue', 'Wed', 'Thu', 'Fri', 'Sat']\n"
          ]
        }
      ],
      "source": [
        "class Queue:\n",
        "    def __init__(self):\n",
        "        self.queue = []\n",
        "    def enqueue(self, item):\n",
        "        self.queue.append(item)\n",
        "#it will show no incoming queue if thewre is no item in queue\n",
        "    def dequeue(self):\n",
        "        if self.is_empty():\n",
        "            return \"No incoming queue\"\n",
        "        return self.queue.pop(0)\n",
        "    def head(self):\n",
        "        if self.is_empty():\n",
        "            return \"No incoming queue\"\n",
        "        return self.queue[0]\n",
        "    def is_empty(self):\n",
        "        return len(self.queue) == 0\n",
        "    def display(self):\n",
        "        print(\"Queue:\", self.queue)\n",
        "# Example queue\n",
        "AQueue = Queue()\n",
        "AQueue.enqueue(\"Sun\")\n",
        "AQueue.enqueue(\"Mon\")\n",
        "AQueue.enqueue(\"Tue\")\n",
        "AQueue.enqueue(\"Wed\")\n",
        "AQueue.enqueue(\"Thu\")\n",
        "AQueue.enqueue(\"Fri\")\n",
        "AQueue.enqueue(\"Sat\")\n",
        "AQueue.display()\n",
        "print(\"Head:\", AQueue.head())\n",
        "AQueue.dequeue()\n",
        "#it will display the remaining item in queue\n",
        "AQueue.display()\n"
      ]
    },
    {
      "cell_type": "code",
      "source": [],
      "metadata": {
        "id": "VD40IFBOSir4"
      },
      "execution_count": null,
      "outputs": []
    }
  ]
}