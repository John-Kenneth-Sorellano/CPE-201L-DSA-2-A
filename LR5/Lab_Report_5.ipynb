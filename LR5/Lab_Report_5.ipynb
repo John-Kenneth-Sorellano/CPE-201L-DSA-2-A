{
  "nbformat": 4,
  "nbformat_minor": 0,
  "metadata": {
    "colab": {
      "provenance": [],
      "authorship_tag": "ABX9TyNh48VpfIQEQDyM2NGhNJ0z",
      "include_colab_link": true
    },
    "kernelspec": {
      "name": "python3",
      "display_name": "Python 3"
    },
    "language_info": {
      "name": "python"
    }
  },
  "cells": [
    {
      "cell_type": "markdown",
      "metadata": {
        "id": "view-in-github",
        "colab_type": "text"
      },
      "source": [
        "<a href=\"https://colab.research.google.com/github/John-Kenneth-Sorellano/CPE-201L-DSA-2-A/blob/main/Lab_Report_5.ipynb\" target=\"_parent\"><img src=\"https://colab.research.google.com/assets/colab-badge.svg\" alt=\"Open In Colab\"/></a>"
      ]
    },
    {
      "cell_type": "code",
      "execution_count": null,
      "metadata": {
        "colab": {
          "base_uri": "https://localhost:8080/"
        },
        "id": "F6yWuCPhafvY",
        "outputId": "c4d4f602-7ccb-48a4-f2ac-aa757fe5fcbd"
      },
      "outputs": [
        {
          "output_type": "stream",
          "name": "stdout",
          "text": [
            "the sum of integers: 55\n"
          ]
        }
      ],
      "source": [
        "# array of 10 integers\n",
        "array = [1, 2, 3, 4, 5, 6, 7, 8, 9, 10]\n",
        "total = 0\n",
        "\n",
        "# summation of array\n",
        "total += array [0]\n",
        "total += array [1]\n",
        "total += array [2]\n",
        "total += array [3]\n",
        "total += array [4]\n",
        "total += array [5]\n",
        "total += array [6]\n",
        "total += array [7]\n",
        "total += array [8]\n",
        "total += array [9]\n",
        "\n",
        "print (f\"the sum of array:\", total)"
      ]
    },
    {
      "cell_type": "code",
      "source": [
        "# orihinal na array\n",
        "array = [1, 2, 3, 4, 5, 6, 7, 8, 9, 10]\n",
        "print (f\"Original array:\", array)\n",
        "\n",
        "#inputing a number\n",
        "numbers = int(input(\"Input a new number:\"))\n",
        "\n",
        "#appending number\n",
        "array.append(numbers)\n",
        "\n",
        "print(f\"Updated array:{array}\")\n"
      ],
      "metadata": {
        "colab": {
          "base_uri": "https://localhost:8080/"
        },
        "id": "uRxZxCo4dNHr",
        "outputId": "44d5425e-6dc0-4d99-8c43-abade5d59b69"
      },
      "execution_count": null,
      "outputs": [
        {
          "output_type": "stream",
          "name": "stdout",
          "text": [
            "Original array: [1, 2, 3, 4, 5, 6, 7, 8, 9, 10]\n",
            "Input a new number:69\n",
            "Updated array:[1, 2, 3, 4, 5, 6, 7, 8, 9, 10, 69]\n"
          ]
        }
      ]
    },
    {
      "cell_type": "code",
      "source": [
        "# orihinal na array\n",
        "array = [1, 2, 3, 4, 5, 6, 7, 8, 9, 10]\n",
        "print (f\"Original array:\", array)\n",
        "\n",
        "#inputing a number\n",
        "numbers = int(input(\"Input a new number in second element:\"))\n",
        "\n",
        "#insert a second number in the element\n",
        "array.insert(1, numbers)\n",
        "\n",
        "print(f\"Updated array:{array}\")\n"
      ],
      "metadata": {
        "colab": {
          "base_uri": "https://localhost:8080/"
        },
        "id": "m6qwLM7q2Eqa",
        "outputId": "65d7e07c-ced1-442c-a0b4-919a44c15682"
      },
      "execution_count": null,
      "outputs": [
        {
          "output_type": "stream",
          "name": "stdout",
          "text": [
            "Original array: [1, 2, 3, 4, 5, 6, 7, 8, 9, 10]\n",
            "Input a new number:6\n",
            "Updated array:[1, 6, 2, 3, 4, 5, 6, 7, 8, 9, 10]\n"
          ]
        }
      ]
    },
    {
      "cell_type": "code",
      "source": [
        "#Original array\n",
        "array = [5, 4, 3, 2, 1]\n",
        "print(f\"Original array:\",array)\n",
        "\n",
        "#Reversing the array\n",
        "array.reverse()\n",
        "\n",
        "print(f\"Reversed array:\",array)\n",
        "\n"
      ],
      "metadata": {
        "colab": {
          "base_uri": "https://localhost:8080/"
        },
        "id": "OAFyOkwA3eZb",
        "outputId": "7ed419bf-132e-467b-b8f3-d89e0d1a6b91"
      },
      "execution_count": null,
      "outputs": [
        {
          "output_type": "stream",
          "name": "stdout",
          "text": [
            "Original array: [5, 4, 3, 2, 1]\n",
            "Reversed array: [1, 2, 3, 4, 5]\n"
          ]
        }
      ]
    },
    {
      "cell_type": "code",
      "source": [
        "# array numbers\n",
        "array = [1, 2, 3, 4, 5]\n",
        "\n",
        "# length of the arrays\n",
        "length = len(array)\n",
        "\n",
        "print(\"the length of the arrays are:\", length)\n"
      ],
      "metadata": {
        "colab": {
          "base_uri": "https://localhost:8080/"
        },
        "id": "QhDXQTvj34JS",
        "outputId": "4e4c4a5f-43bb-475f-b003-300f738429d4"
      },
      "execution_count": null,
      "outputs": [
        {
          "output_type": "stream",
          "name": "stdout",
          "text": [
            "the length of the arrays are: 5\n"
          ]
        }
      ]
    }
  ]
}
