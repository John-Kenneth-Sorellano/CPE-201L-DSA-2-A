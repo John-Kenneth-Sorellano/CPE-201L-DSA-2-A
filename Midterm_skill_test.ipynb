{
  "nbformat": 4,
  "nbformat_minor": 0,
  "metadata": {
    "colab": {
      "provenance": [],
      "authorship_tag": "ABX9TyNU1DSPW5tCYkIH3eSuGU58",
      "include_colab_link": true
    },
    "kernelspec": {
      "name": "python3",
      "display_name": "Python 3"
    },
    "language_info": {
      "name": "python"
    }
  },
  "cells": [
    {
      "cell_type": "markdown",
      "metadata": {
        "id": "view-in-github",
        "colab_type": "text"
      },
      "source": [
        "<a href=\"https://colab.research.google.com/github/John-Kenneth-Sorellano/CPE-201L-DSA-2-A/blob/main/Midterm_skill_test.ipynb\" target=\"_parent\"><img src=\"https://colab.research.google.com/assets/colab-badge.svg\" alt=\"Open In Colab\"/></a>"
      ]
    },
    {
      "cell_type": "code",
      "execution_count": 1,
      "metadata": {
        "colab": {
          "base_uri": "https://localhost:8080/"
        },
        "id": "XyFQA_xfLtx9",
        "outputId": "f89d5f26-5136-4f72-cdaa-702c31ee85b1"
      },
      "outputs": [
        {
          "output_type": "stream",
          "name": "stdout",
          "text": [
            "Elements of the array:\n",
            "arr[0] = 20\n",
            "arr[1] = 22\n",
            "arr[2] = 24\n",
            "arr[3] = 26\n",
            "arr[4] = 28\n",
            "arr[5] = 30\n",
            "arr[6] = 32\n",
            "arr[7] = 34\n",
            "arr[8] = 36\n",
            "arr[9] = 38\n",
            "arr[10] = 40\n",
            "arr[11] = 42\n",
            "arr[12] = 44\n",
            "arr[13] = 46\n",
            "arr[14] = 48\n",
            "The maximum element is: 48\n",
            "Reversed array:\n",
            "arr[0] = 48\n",
            "arr[1] = 46\n",
            "arr[2] = 44\n",
            "arr[3] = 42\n",
            "arr[4] = 40\n",
            "arr[5] = 38\n",
            "arr[6] = 36\n",
            "arr[7] = 34\n",
            "arr[8] = 32\n",
            "arr[9] = 30\n",
            "arr[10] = 28\n",
            "arr[11] = 26\n",
            "arr[12] = 24\n",
            "arr[13] = 22\n",
            "arr[14] = 20\n"
          ]
        }
      ],
      "source": [
        "# a.) display the elements\n",
        "arr = [0] * 15\n",
        "arr[0] = 20\n",
        "arr[1] = 22\n",
        "arr[2] = 24\n",
        "arr[3] = 26\n",
        "arr[4] = 28\n",
        "arr[5] = 30\n",
        "arr[6] = 32\n",
        "arr[7] = 34\n",
        "arr[8] = 36\n",
        "arr[9] = 38\n",
        "arr[10] = 40\n",
        "arr[11] = 42\n",
        "arr[12] = 44\n",
        "arr[13] = 46\n",
        "arr[14] = 48\n",
        "print (\"Elements of the array:\")\n",
        "for i in range(len(arr)):\n",
        "    print(f\"arr[{i}] = {arr[i]}\")\n",
        "\n",
        "# b.) Find the maximum element\n",
        "maximum_element = max(arr)\n",
        "print (f\"The maximum element is:\", maximum_element)\n",
        "\n",
        "# c.) Reverse the array\n",
        "reversed_array = arr[::-1]\n",
        "print (f'Reversed array:')\n",
        "for i in range(len(reversed_array)):\n",
        "    print(f\"arr[{i}] = {reversed_array[i]}\")"
      ]
    }
  ]
}