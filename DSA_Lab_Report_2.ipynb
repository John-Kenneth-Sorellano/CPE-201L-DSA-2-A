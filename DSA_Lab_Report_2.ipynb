{
  "nbformat": 4,
  "nbformat_minor": 0,
  "metadata": {
    "colab": {
      "provenance": [],
      "authorship_tag": "ABX9TyNdOdT57MulxbfSqPscsBbk",
      "include_colab_link": true
    },
    "kernelspec": {
      "name": "python3",
      "display_name": "Python 3"
    },
    "language_info": {
      "name": "python"
    }
  },
  "cells": [
    {
      "cell_type": "markdown",
      "metadata": {
        "id": "view-in-github",
        "colab_type": "text"
      },
      "source": [
        "<a href=\"https://colab.research.google.com/github/John-Kenneth-Sorellano/CPE-201L-DSA-2-A/blob/main/DSA_Lab_Report_2.ipynb\" target=\"_parent\"><img src=\"https://colab.research.google.com/assets/colab-badge.svg\" alt=\"Open In Colab\"/></a>"
      ]
    },
    {
      "cell_type": "code",
      "execution_count": null,
      "metadata": {
        "id": "gOMCOCSC-nTz"
      },
      "outputs": [],
      "source": [
        "def minmax(arr):\n",
        "    if len(arr) == 1:\n",
        "        return arr[0], arr[0]\n",
        "    a, b = minmax(arr[1:])\n",
        "    return min(arr[0], a), max(arr[0], b)\n",
        "nums = [2, 6, 10, 12, 23]\n",
        "x, y = minmax(nums)\n",
        "print(f\"Min: {x}, Max: {y}\")"
      ]
    }
  ]
}