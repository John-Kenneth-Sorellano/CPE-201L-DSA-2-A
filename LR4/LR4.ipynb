{
  "nbformat": 4,
  "nbformat_minor": 0,
  "metadata": {
    "colab": {
      "provenance": [],
      "authorship_tag": "ABX9TyNoZiIVLsXga5DNZ5sSH85a",
      "include_colab_link": true
    },
    "kernelspec": {
      "name": "python3",
      "display_name": "Python 3"
    },
    "language_info": {
      "name": "python"
    }
  },
  "cells": [
    {
      "cell_type": "markdown",
      "metadata": {
        "id": "view-in-github",
        "colab_type": "text"
      },
      "source": [
        "<a href=\"https://colab.research.google.com/github/John-Kenneth-Sorellano/CPE-201L-DSA-2-A/blob/main/LR4.ipynb\" target=\"_parent\"><img src=\"https://colab.research.google.com/assets/colab-badge.svg\" alt=\"Open In Colab\"/></a>"
      ]
    },
    {
      "cell_type": "code",
      "execution_count": 26,
      "metadata": {
        "colab": {
          "base_uri": "https://localhost:8080/"
        },
        "id": "Ul9HF0Y3HA6Y",
        "outputId": "933940d9-f0c6-4387-d524-560648f6688b"
      },
      "outputs": [
        {
          "output_type": "stream",
          "name": "stdout",
          "text": [
            "Grocery list:\n",
            "Apple - PHP 10 x 7 = PHP 70\n",
            "Banana - PHP 10 x 8 = PHP 80\n",
            "Brocolli - PHP 60 x 12 = PHP 720\n",
            "Lettuce - PHP 50 x 10 = PHP 500\n",
            "Total sum: PHP 1370\n",
            "\n",
            "After deleting Lettuce:\n",
            "Apple - PHP 10 x 7 = PHP 70\n",
            "Banana - PHP 10 x 8 = PHP 80\n",
            "Brocolli - PHP 60 x 12 = PHP 720\n",
            "Total Sum = PHP 1370\n"
          ]
        }
      ],
      "source": [
        "# Problem 1\n",
        "class GroceryItems:\n",
        "    def __init__(self, name, price, quantity):\n",
        "        self.name = name\n",
        "        self.price = price\n",
        "        self.quantity = quantity\n",
        "\n",
        "    def calculate_sum(self):\n",
        "        return self.price * self.quantity\n",
        "\n",
        "    def display(self):\n",
        "        print(f\"{self.name} - PHP {self.price} x {self.quantity} = PHP {self.calculate_sum()}\")\n",
        "\n",
        "# inheritance in grocery items\n",
        "class Fruits(GroceryItems):\n",
        "    pass\n",
        "\n",
        "class Vegetables(GroceryItems):\n",
        "    pass\n",
        "\n",
        "def sum_items(items):\n",
        "    return sum(item.calculate_sum() for item in Grocery_list)\n",
        "\n",
        "# Problem 2 (array)\n",
        "grocery_list = [\n",
        "    Fruits(\"Apple\",10,7),\n",
        "    Fruits(\"Banana\",10,8),\n",
        "    Vegetables(\"Brocolli\",60, 12),\n",
        "    Vegetables(\"Lettuce\",50, 10)\n",
        "]\n",
        "\n",
        "print (\"Grocery list:\")\n",
        "for item in grocery_list:\n",
        "    item.display ()\n",
        "\n",
        "#Problem 3 (total sum)\n",
        "print(f\"Total sum: PHP {sum_items(grocery_list)}\")\n",
        "\n",
        "# Problem 4 (deleting)\n",
        "grocery_list = [item for item in grocery_list if item.name != \"Lettuce\"]\n",
        "\n",
        "print(\"\\nAfter deleting Lettuce:\")\n",
        "for item in grocery_list:\n",
        "    item.display()\n",
        "\n",
        "print(f\"Total Sum = PHP\", sum_items(grocery_list))"
      ]
    },
    {
      "cell_type": "code",
      "source": [],
      "metadata": {
        "id": "hKhBdAARP52A"
      },
      "execution_count": null,
      "outputs": []
    }
  ]
}
