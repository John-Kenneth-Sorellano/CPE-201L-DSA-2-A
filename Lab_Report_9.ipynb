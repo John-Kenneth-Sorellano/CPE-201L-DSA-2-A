{
  "nbformat": 4,
  "nbformat_minor": 0,
  "metadata": {
    "colab": {
      "provenance": [],
      "authorship_tag": "ABX9TyMafFA9ZIRAs2sQ4fJCkerj",
      "include_colab_link": true
    },
    "kernelspec": {
      "name": "python3",
      "display_name": "Python 3"
    },
    "language_info": {
      "name": "python"
    }
  },
  "cells": [
    {
      "cell_type": "markdown",
      "metadata": {
        "id": "view-in-github",
        "colab_type": "text"
      },
      "source": [
        "<a href=\"https://colab.research.google.com/github/John-Kenneth-Sorellano/CPE-201L-DSA-2-A/blob/main/Lab_Report_9.ipynb\" target=\"_parent\"><img src=\"https://colab.research.google.com/assets/colab-badge.svg\" alt=\"Open In Colab\"/></a>"
      ]
    },
    {
      "cell_type": "code",
      "execution_count": 12,
      "metadata": {
        "colab": {
          "base_uri": "https://localhost:8080/"
        },
        "id": "nNeQUPQhjaaM",
        "outputId": "7e3843d2-9e4d-4a86-d1b0-d4d261e3fc59"
      },
      "outputs": [
        {
          "output_type": "stream",
          "name": "stdout",
          "text": [
            "In Queue: ['1', '2', '3', '4', '5']\n",
            "Dequeued: 1\n",
            "In Front: 2\n",
            "Latest queue: ['2', '3', '4', '5']\n"
          ]
        }
      ],
      "source": [
        "def create_queue():\n",
        "    return []\n",
        "\n",
        "def enqueue(queue, element):\n",
        "    queue.append(element)\n",
        "\n",
        "def dequeue(queue):\n",
        "    if len(queue) == 0:\n",
        "        return \"Empty Queue\"\n",
        "    return queue.pop(0)\n",
        "\n",
        "def peek(queue):\n",
        "    if len(queue) == 0:\n",
        "        return \"Empty queue\"\n",
        "    return queue[0]\n",
        "\n",
        "num = create_queue()\n",
        "enqueue(num, \"1\")\n",
        "enqueue(num, \"2\")\n",
        "enqueue(num, \"3\")\n",
        "enqueue(num, \"4\")\n",
        "enqueue(num, \"5\")\n",
        "\n",
        "print(\"In Queue:\", num)\n",
        "print(\"Dequeued:\", dequeue(num))\n",
        "print(\"In Front:\", peek(num))\n",
        "print(\"Latest queue:\", num)"
      ]
    }
  ]
}