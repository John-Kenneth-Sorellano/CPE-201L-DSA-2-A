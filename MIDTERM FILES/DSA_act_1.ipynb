{
  "nbformat": 4,
  "nbformat_minor": 0,
  "metadata": {
    "colab": {
      "provenance": [],
      "authorship_tag": "ABX9TyPKgT4IsAJvtp1IBTM+9euj",
      "include_colab_link": true
    },
    "kernelspec": {
      "name": "python3",
      "display_name": "Python 3"
    },
    "language_info": {
      "name": "python"
    }
  },
  "cells": [
    {
      "cell_type": "markdown",
      "metadata": {
        "id": "view-in-github",
        "colab_type": "text"
      },
      "source": [
        "<a href=\"https://colab.research.google.com/github/John-Kenneth-Sorellano/CPE-201L-DSA-2-A/blob/main/DSA_act_1.ipynb\" target=\"_parent\"><img src=\"https://colab.research.google.com/assets/colab-badge.svg\" alt=\"Open In Colab\"/></a>"
      ]
    },
    {
      "cell_type": "code",
      "source": [
        "import math\n",
        "radius = float (input (\"Circle radius: \"))\n",
        "area = math.pi * radius * radius\n",
        "print (\"area:\", area)"
      ],
      "metadata": {
        "colab": {
          "base_uri": "https://localhost:8080/"
        },
        "id": "6xtPfs1SzdH_",
        "outputId": "162ca827-bfec-482b-cf07-a1af748a1577"
      },
      "execution_count": 9,
      "outputs": [
        {
          "output_type": "stream",
          "name": "stdout",
          "text": [
            "Please enter the radius of a circle: 5\n",
            "area: 78.53981633974483\n"
          ]
        }
      ]
    },
    {
      "cell_type": "code",
      "source": [
        "import math\n",
        "diameter = float (input (\"circle diameter;\"))\n",
        "radius = diameter/2\n",
        "area =  math.pi * radius * radius\n",
        "print (\"area:\", area)"
      ],
      "metadata": {
        "colab": {
          "base_uri": "https://localhost:8080/"
        },
        "id": "dq78_Zm61jXX",
        "outputId": "f1017183-9a47-4ce8-a8d9-be12b9348470"
      },
      "execution_count": 20,
      "outputs": [
        {
          "output_type": "stream",
          "name": "stdout",
          "text": [
            "circle diameter;5\n",
            "area: 19.634954084936208\n"
          ]
        }
      ]
    }
  ]
}